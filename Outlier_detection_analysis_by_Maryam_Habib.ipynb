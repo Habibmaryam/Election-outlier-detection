{
  "cells": [
    {
      "cell_type": "markdown",
      "metadata": {
        "id": "view-in-github",
        "colab_type": "text"
      },
      "source": [
        "<a href=\"https://colab.research.google.com/github/Habibmaryam/Election-outlier-detection/blob/main/Outlier_detection_analysis_by_Maryam_Habib.ipynb\" target=\"_parent\"><img src=\"https://colab.research.google.com/assets/colab-badge.svg\" alt=\"Open In Colab\"/></a>"
      ]
    },
    {
      "cell_type": "markdown",
      "id": "6601e08c",
      "metadata": {
        "id": "6601e08c"
      },
      "source": [
        "### IMPORTING LIBRARIES"
      ]
    },
    {
      "cell_type": "code",
      "execution_count": null,
      "id": "38c38b11",
      "metadata": {
        "colab": {
          "base_uri": "https://localhost:8080/"
        },
        "id": "38c38b11",
        "outputId": "1f311819-3ab2-41c4-e346-ec86a721fff7"
      },
      "outputs": [
        {
          "output_type": "stream",
          "name": "stdout",
          "text": [
            "Requirement already satisfied: geopy in /usr/local/lib/python3.10/dist-packages (2.3.0)\n",
            "Requirement already satisfied: geographiclib<3,>=1.52 in /usr/local/lib/python3.10/dist-packages (from geopy) (2.0)\n",
            "Requirement already satisfied: folium in /usr/local/lib/python3.10/dist-packages (0.14.0)\n",
            "Requirement already satisfied: branca>=0.6.0 in /usr/local/lib/python3.10/dist-packages (from folium) (0.7.2)\n",
            "Requirement already satisfied: jinja2>=2.9 in /usr/local/lib/python3.10/dist-packages (from folium) (3.1.4)\n",
            "Requirement already satisfied: numpy in /usr/local/lib/python3.10/dist-packages (from folium) (1.25.2)\n",
            "Requirement already satisfied: requests in /usr/local/lib/python3.10/dist-packages (from folium) (2.31.0)\n",
            "Requirement already satisfied: MarkupSafe>=2.0 in /usr/local/lib/python3.10/dist-packages (from jinja2>=2.9->folium) (2.1.5)\n",
            "Requirement already satisfied: charset-normalizer<4,>=2 in /usr/local/lib/python3.10/dist-packages (from requests->folium) (3.3.2)\n",
            "Requirement already satisfied: idna<4,>=2.5 in /usr/local/lib/python3.10/dist-packages (from requests->folium) (3.7)\n",
            "Requirement already satisfied: urllib3<3,>=1.21.1 in /usr/local/lib/python3.10/dist-packages (from requests->folium) (2.0.7)\n",
            "Requirement already satisfied: certifi>=2017.4.17 in /usr/local/lib/python3.10/dist-packages (from requests->folium) (2024.6.2)\n",
            "Requirement already satisfied: scikit-learn in /usr/local/lib/python3.10/dist-packages (1.2.2)\n",
            "Requirement already satisfied: numpy>=1.17.3 in /usr/local/lib/python3.10/dist-packages (from scikit-learn) (1.25.2)\n",
            "Requirement already satisfied: scipy>=1.3.2 in /usr/local/lib/python3.10/dist-packages (from scikit-learn) (1.11.4)\n",
            "Requirement already satisfied: joblib>=1.1.1 in /usr/local/lib/python3.10/dist-packages (from scikit-learn) (1.4.2)\n",
            "Requirement already satisfied: threadpoolctl>=2.0.0 in /usr/local/lib/python3.10/dist-packages (from scikit-learn) (3.5.0)\n"
          ]
        }
      ],
      "source": [
        "!pip install geopy\n",
        "!pip install folium\n",
        "!pip install scikit-learn"
      ]
    },
    {
      "cell_type": "code",
      "source": [
        "import pandas as pd\n",
        "import numpy as np\n",
        "import folium\n",
        "import requests\n",
        "import matplotlib.pyplot as plt\n",
        "from sklearn.metrics.pairwise import haversine_distances\n",
        "from geopy.distance import geodesic\n",
        "from scipy.stats import zscore\n",
        "from folium.plugins import MarkerCluster"
      ],
      "metadata": {
        "id": "LHg_OW505vhj"
      },
      "id": "LHg_OW505vhj",
      "execution_count": null,
      "outputs": []
    },
    {
      "cell_type": "code",
      "source": [
        "from google.colab import drive\n",
        "drive.mount('/content/drive')"
      ],
      "metadata": {
        "colab": {
          "base_uri": "https://localhost:8080/"
        },
        "id": "-VXxTKqlgfc9",
        "outputId": "a0a617b1-2463-414f-d35c-374c5695ed88"
      },
      "id": "-VXxTKqlgfc9",
      "execution_count": null,
      "outputs": [
        {
          "output_type": "stream",
          "name": "stdout",
          "text": [
            "Drive already mounted at /content/drive; to attempt to forcibly remount, call drive.mount(\"/content/drive\", force_remount=True).\n"
          ]
        }
      ]
    },
    {
      "cell_type": "markdown",
      "id": "1448919e",
      "metadata": {
        "id": "1448919e"
      },
      "source": [
        "### Load the main dataset and the dataset with lat/lon information"
      ]
    },
    {
      "cell_type": "code",
      "execution_count": null,
      "id": "41024460",
      "metadata": {
        "id": "41024460",
        "outputId": "a0b4ac76-9cd2-4cb0-b57f-af6c2e2fdaa7",
        "colab": {
          "base_uri": "https://localhost:8080/"
        }
      },
      "outputs": [
        {
          "output_type": "stream",
          "name": "stdout",
          "text": [
            "    State   Latitude  Longitude      LGA             Ward       PU-Code  \\\n",
            "0  SOKOTO  13.183385   4.987049    BINJI           INNAME  33-01-01-002   \n",
            "1  SOKOTO  13.154333   5.002645    BINJI           SAMAMA  33-01-02-001   \n",
            "2  SOKOTO  13.222221   4.911728    BINJI            BINJI  33-01-03-002   \n",
            "3  SOKOTO  12.879571   5.242388  BODINGA         BAGARAWA  33-02-02-003   \n",
            "4  SOKOTO  12.973935   5.128989  BODINGA  DINGYADI/BADAWA  33-02-06-015   \n",
            "\n",
            "              PU-Name                                       Full Address  \\\n",
            "0      GURUZA /SAMAMA   SOKOTO BINJI INNAME 33-01-01-002 GURUZA /SAMAMA    \n",
            "1       SAMAMA MARINA    SOKOTO BINJI SAMAMA 33-01-02-001 SAMAMA MARINA    \n",
            "2            BAJAGAWA          SOKOTO BINJI BINJI 33-01-03-002 BAJAGAWA    \n",
            "3    PRY SCH, R/YARDE  SOKOTO BODINGA BAGARAWA 33-02-02-003 PRY SCH, ...   \n",
            "4  DANFILI,RUNJI AUDU  SOKOTO BODINGA DINGYADI/BADAWA 33-02-06-015 DA...   \n",
            "\n",
            "   Accredited_Voters  Registered_Voters  ...  Result_Sheet_Stamped  \\\n",
            "0                261                748  ...                  True   \n",
            "1                244                750  ...                  True   \n",
            "2                303                557  ...                  True   \n",
            "3                  0                790  ...                  True   \n",
            "4                189                532  ...                 False   \n",
            "\n",
            "   Result_Sheet_Corrected  Result_Sheet_Invalid  Result_Sheet_Unclear  \\\n",
            "0                   False                 False                 False   \n",
            "1                   False                 False                 False   \n",
            "2                   False                 False                 False   \n",
            "3                   False                 False                 False   \n",
            "4                   False                 False                 False   \n",
            "\n",
            "   Result_Sheet_Unsigned  APC LP  PDP  NNPP  \\\n",
            "0                UNKNOWN  116  0  138     0   \n",
            "1                UNKNOWN  114  0  107     0   \n",
            "2                UNKNOWN   91  0  176     1   \n",
            "3                UNKNOWN   57  0  203     0   \n",
            "4                UNKNOWN  117  0   69     0   \n",
            "\n",
            "                                        Results_File  \n",
            "0  https://inec-cvr-cache.s3.eu-west-1.amazonaws....  \n",
            "1  https://inec-cvr-cache.s3.eu-west-1.amazonaws....  \n",
            "2  https://docs.inecelectionresults.net/elections...  \n",
            "3  https://inec-cvr-cache.s3.eu-west-1.amazonaws....  \n",
            "4  https://inec-cvr-cache.s3.eu-west-1.amazonaws....  \n",
            "\n",
            "[5 rows x 22 columns]\n"
          ]
        }
      ],
      "source": [
        "main_df = pd.read_csv('/content/drive/MyDrive/Sokoto Crosschecked - SOKOTO_crosschecked.csv')\n",
        "#lat_lon_df = pd.read_csv('polling-units.csv')\n",
        "\n",
        "# Merge the datasets on the common column (Ward)\n",
        "#df = pd.merge(main_df, lat_lon_df, on='Ward')\n",
        "\n",
        "# check the first 5 rows of the data\n",
        "print(main_df.head())"
      ]
    },
    {
      "cell_type": "code",
      "execution_count": null,
      "id": "1b191343",
      "metadata": {
        "id": "1b191343",
        "outputId": "4bf90784-b4c2-4ffd-91db-d596a41251da",
        "colab": {
          "base_uri": "https://localhost:8080/"
        }
      },
      "outputs": [
        {
          "output_type": "stream",
          "name": "stdout",
          "text": [
            "DataFrame shape: (132, 22)\n",
            "    State   Latitude  Longitude      LGA             Ward       PU-Code  \\\n",
            "0  SOKOTO  13.183385   4.987049    BINJI           INNAME  33-01-01-002   \n",
            "1  SOKOTO  13.154333   5.002645    BINJI           SAMAMA  33-01-02-001   \n",
            "2  SOKOTO  13.222221   4.911728    BINJI            BINJI  33-01-03-002   \n",
            "3  SOKOTO  12.879571   5.242388  BODINGA         BAGARAWA  33-02-02-003   \n",
            "4  SOKOTO  12.973935   5.128989  BODINGA  DINGYADI/BADAWA  33-02-06-015   \n",
            "\n",
            "              PU-Name                                       Full Address  \\\n",
            "0      GURUZA /SAMAMA   SOKOTO BINJI INNAME 33-01-01-002 GURUZA /SAMAMA    \n",
            "1       SAMAMA MARINA    SOKOTO BINJI SAMAMA 33-01-02-001 SAMAMA MARINA    \n",
            "2            BAJAGAWA          SOKOTO BINJI BINJI 33-01-03-002 BAJAGAWA    \n",
            "3    PRY SCH, R/YARDE  SOKOTO BODINGA BAGARAWA 33-02-02-003 PRY SCH, ...   \n",
            "4  DANFILI,RUNJI AUDU  SOKOTO BODINGA DINGYADI/BADAWA 33-02-06-015 DA...   \n",
            "\n",
            "   Accredited_Voters  Registered_Voters  ...  Result_Sheet_Stamped  \\\n",
            "0                261                748  ...                  True   \n",
            "1                244                750  ...                  True   \n",
            "2                303                557  ...                  True   \n",
            "3                  0                790  ...                  True   \n",
            "4                189                532  ...                 False   \n",
            "\n",
            "   Result_Sheet_Corrected  Result_Sheet_Invalid  Result_Sheet_Unclear  \\\n",
            "0                   False                 False                 False   \n",
            "1                   False                 False                 False   \n",
            "2                   False                 False                 False   \n",
            "3                   False                 False                 False   \n",
            "4                   False                 False                 False   \n",
            "\n",
            "   Result_Sheet_Unsigned  APC LP  PDP  NNPP  \\\n",
            "0                UNKNOWN  116  0  138     0   \n",
            "1                UNKNOWN  114  0  107     0   \n",
            "2                UNKNOWN   91  0  176     1   \n",
            "3                UNKNOWN   57  0  203     0   \n",
            "4                UNKNOWN  117  0   69     0   \n",
            "\n",
            "                                        Results_File  \n",
            "0  https://inec-cvr-cache.s3.eu-west-1.amazonaws....  \n",
            "1  https://inec-cvr-cache.s3.eu-west-1.amazonaws....  \n",
            "2  https://docs.inecelectionresults.net/elections...  \n",
            "3  https://inec-cvr-cache.s3.eu-west-1.amazonaws....  \n",
            "4  https://inec-cvr-cache.s3.eu-west-1.amazonaws....  \n",
            "\n",
            "[5 rows x 22 columns]\n"
          ]
        }
      ],
      "source": [
        "# Check the merging result\n",
        "print(\"DataFrame shape:\", main_df.shape)\n",
        "print(main_df.head())"
      ]
    },
    {
      "cell_type": "code",
      "execution_count": null,
      "id": "ddacd67f",
      "metadata": {
        "id": "ddacd67f",
        "outputId": "ad73f1e8-f5ac-4de5-e811-8528df3400b1",
        "colab": {
          "base_uri": "https://localhost:8080/"
        }
      },
      "outputs": [
        {
          "output_type": "stream",
          "name": "stdout",
          "text": [
            "Latitude     1\n",
            "Longitude    1\n",
            "dtype: int64\n"
          ]
        }
      ],
      "source": [
        "# Check for missing values in 'latitude' and 'longitude' columns\n",
        "print(main_df[['Latitude', 'Longitude']].isnull().sum())"
      ]
    },
    {
      "cell_type": "markdown",
      "id": "2e09681d",
      "metadata": {
        "id": "2e09681d"
      },
      "source": [
        "### Drop NaN Values"
      ]
    },
    {
      "cell_type": "code",
      "execution_count": null,
      "id": "dba4b8ab",
      "metadata": {
        "id": "dba4b8ab"
      },
      "outputs": [],
      "source": [
        "# Drop rows with missing values in 'latitude' and 'longitude' columns\n",
        "df = main_df.dropna(subset=['Latitude', 'Longitude'])\n",
        "\n",
        "# Ensure DataFrame is not empty after dropping missing values\n",
        "if main_df.empty:\n",
        "    raise ValueError(\"DataFrame is empty after handling missing values. Check the merging process and data integrity.\")"
      ]
    },
    {
      "cell_type": "markdown",
      "id": "60763cf6",
      "metadata": {
        "id": "60763cf6"
      },
      "source": [
        "# Convert latitudes and longitudes to radians"
      ]
    },
    {
      "cell_type": "code",
      "execution_count": null,
      "id": "7c52c2b4",
      "metadata": {
        "id": "7c52c2b4"
      },
      "outputs": [],
      "source": [
        "main_df['Latitude_radians'] = np.radians(df['Latitude'])\n",
        "main_df['Longitude_radians'] = np.radians(df['Longitude'])"
      ]
    },
    {
      "cell_type": "code",
      "source": [
        "coords = df[['Latitude_radians', 'Longitude_radians']].values\n",
        "if coords.size == 0:\n",
        "    raise ValueError(\"Coordinates array is empty. Check your data and merging process.\")\n",
        "\n",
        "dist_matrix = haversine_distances(coords) * 6371  # Convert to kilometers\n",
        "# Define a radius (1 km)\n",
        "radius = 1\n",
        "\n",
        "# Extract coordinates from DataFrame\n",
        "coords = df[['Latitude_radians', 'Longitude_radians']].values\n",
        "\n",
        "# Check if coordinates array is empty\n",
        "if coords.size == 0:\n",
        "    raise ValueError(\"Coordinates array is empty. Check your data and merging process.\")\n",
        "\n",
        "from sklearn.metrics.pairwise import haversine_distances\n",
        "dist_matrix = haversine_distances(coords) * 6371  # Convert to kilometers\n",
        "\n",
        "# Define a radius (1 km)\n",
        "radius = 1\n",
        "\n",
        "# Identify neighbors within the radius\n",
        "neighbors = {i: np.where(dist_matrix[i] <= radius)[0] for i in range(len(df))}\n",
        "\n",
        "# Identify neighbors within the radius\n",
        "neighbors = {i: np.where(dist_matrix[i] <= radius)[0] for i in range(len(df))}"
      ],
      "metadata": {
        "id": "HJHPw8DVsSPW"
      },
      "id": "HJHPw8DVsSPW",
      "execution_count": null,
      "outputs": []
    },
    {
      "cell_type": "code",
      "source": [
        "# Create an empty DataFrame for distances\n",
        "distances = pd.DataFrame(index=main_df.index, columns=main_df.index)\n",
        "\n",
        "# Calculate pairwise distances\n",
        "for i in main_df.index:\n",
        "    for j in main_df.index:\n",
        "        # Convert single points to a numpy array for the haversine_distances function\n",
        "        point1 = np.array([main_df.loc[i, 'Latitude_radians'], main_df.loc[i, 'Longitude_radians']]).reshape(1, -1)\n",
        "        point2 = np.array([main_df.loc[j, 'Latitude_radians'], main_df.loc[j, 'Longitude_radians']]).reshape(1, -1)\n",
        "\n",
        "        # Calculate the distance and extract the single value\n",
        "        distance = haversine_distances(point1, point2)[0][0]\n",
        "\n",
        "        distances.loc[i, j] = distance * 6371  # Earth radius in kilometers"
      ],
      "metadata": {
        "id": "Ke1cJqO5tIo2",
        "colab": {
          "base_uri": "https://localhost:8080/",
          "height": 405
        },
        "outputId": "d4eb187e-13ca-42ff-f07d-2ef78259f5cc"
      },
      "id": "Ke1cJqO5tIo2",
      "execution_count": null,
      "outputs": [
        {
          "output_type": "error",
          "ename": "ValueError",
          "evalue": "Input contains NaN.",
          "traceback": [
            "\u001b[0;31m---------------------------------------------------------------------------\u001b[0m",
            "\u001b[0;31mValueError\u001b[0m                                Traceback (most recent call last)",
            "\u001b[0;32m<ipython-input-52-6915f24346f0>\u001b[0m in \u001b[0;36m<cell line: 5>\u001b[0;34m()\u001b[0m\n\u001b[1;32m     10\u001b[0m \u001b[0;34m\u001b[0m\u001b[0m\n\u001b[1;32m     11\u001b[0m         \u001b[0;31m# Calculate the distance and extract the single value\u001b[0m\u001b[0;34m\u001b[0m\u001b[0;34m\u001b[0m\u001b[0m\n\u001b[0;32m---> 12\u001b[0;31m         \u001b[0mdistance\u001b[0m \u001b[0;34m=\u001b[0m \u001b[0mhaversine_distances\u001b[0m\u001b[0;34m(\u001b[0m\u001b[0mpoint1\u001b[0m\u001b[0;34m,\u001b[0m \u001b[0mpoint2\u001b[0m\u001b[0;34m)\u001b[0m\u001b[0;34m[\u001b[0m\u001b[0;36m0\u001b[0m\u001b[0;34m]\u001b[0m\u001b[0;34m[\u001b[0m\u001b[0;36m0\u001b[0m\u001b[0;34m]\u001b[0m\u001b[0;34m\u001b[0m\u001b[0;34m\u001b[0m\u001b[0m\n\u001b[0m\u001b[1;32m     13\u001b[0m \u001b[0;34m\u001b[0m\u001b[0m\n\u001b[1;32m     14\u001b[0m         \u001b[0mdistances\u001b[0m\u001b[0;34m.\u001b[0m\u001b[0mloc\u001b[0m\u001b[0;34m[\u001b[0m\u001b[0mi\u001b[0m\u001b[0;34m,\u001b[0m \u001b[0mj\u001b[0m\u001b[0;34m]\u001b[0m \u001b[0;34m=\u001b[0m \u001b[0mdistance\u001b[0m \u001b[0;34m*\u001b[0m \u001b[0;36m6371\u001b[0m  \u001b[0;31m# Earth radius in kilometers\u001b[0m\u001b[0;34m\u001b[0m\u001b[0;34m\u001b[0m\u001b[0m\n",
            "\u001b[0;32m/usr/local/lib/python3.10/dist-packages/sklearn/metrics/pairwise.py\u001b[0m in \u001b[0;36mhaversine_distances\u001b[0;34m(X, Y)\u001b[0m\n\u001b[1;32m    877\u001b[0m     \u001b[0;32mfrom\u001b[0m \u001b[0;34m.\u001b[0m\u001b[0;34m.\u001b[0m\u001b[0mmetrics\u001b[0m \u001b[0;32mimport\u001b[0m \u001b[0mDistanceMetric\u001b[0m\u001b[0;34m\u001b[0m\u001b[0;34m\u001b[0m\u001b[0m\n\u001b[1;32m    878\u001b[0m \u001b[0;34m\u001b[0m\u001b[0m\n\u001b[0;32m--> 879\u001b[0;31m     \u001b[0;32mreturn\u001b[0m \u001b[0mDistanceMetric\u001b[0m\u001b[0;34m.\u001b[0m\u001b[0mget_metric\u001b[0m\u001b[0;34m(\u001b[0m\u001b[0;34m\"haversine\"\u001b[0m\u001b[0;34m)\u001b[0m\u001b[0;34m.\u001b[0m\u001b[0mpairwise\u001b[0m\u001b[0;34m(\u001b[0m\u001b[0mX\u001b[0m\u001b[0;34m,\u001b[0m \u001b[0mY\u001b[0m\u001b[0;34m)\u001b[0m\u001b[0;34m\u001b[0m\u001b[0;34m\u001b[0m\u001b[0m\n\u001b[0m\u001b[1;32m    880\u001b[0m \u001b[0;34m\u001b[0m\u001b[0m\n\u001b[1;32m    881\u001b[0m \u001b[0;34m\u001b[0m\u001b[0m\n",
            "\u001b[0;32msklearn/metrics/_dist_metrics.pyx\u001b[0m in \u001b[0;36msklearn.metrics._dist_metrics.DistanceMetric.pairwise\u001b[0;34m()\u001b[0m\n",
            "\u001b[0;32m/usr/local/lib/python3.10/dist-packages/sklearn/utils/validation.py\u001b[0m in \u001b[0;36mcheck_array\u001b[0;34m(array, accept_sparse, accept_large_sparse, dtype, order, copy, force_all_finite, ensure_2d, allow_nd, ensure_min_samples, ensure_min_features, estimator, input_name)\u001b[0m\n\u001b[1;32m    919\u001b[0m \u001b[0;34m\u001b[0m\u001b[0m\n\u001b[1;32m    920\u001b[0m         \u001b[0;32mif\u001b[0m \u001b[0mforce_all_finite\u001b[0m\u001b[0;34m:\u001b[0m\u001b[0;34m\u001b[0m\u001b[0;34m\u001b[0m\u001b[0m\n\u001b[0;32m--> 921\u001b[0;31m             _assert_all_finite(\n\u001b[0m\u001b[1;32m    922\u001b[0m                 \u001b[0marray\u001b[0m\u001b[0;34m,\u001b[0m\u001b[0;34m\u001b[0m\u001b[0;34m\u001b[0m\u001b[0m\n\u001b[1;32m    923\u001b[0m                 \u001b[0minput_name\u001b[0m\u001b[0;34m=\u001b[0m\u001b[0minput_name\u001b[0m\u001b[0;34m,\u001b[0m\u001b[0;34m\u001b[0m\u001b[0;34m\u001b[0m\u001b[0m\n",
            "\u001b[0;32m/usr/local/lib/python3.10/dist-packages/sklearn/utils/validation.py\u001b[0m in \u001b[0;36m_assert_all_finite\u001b[0;34m(X, allow_nan, msg_dtype, estimator_name, input_name)\u001b[0m\n\u001b[1;32m    159\u001b[0m                 \u001b[0;34m\"#estimators-that-handle-nan-values\"\u001b[0m\u001b[0;34m\u001b[0m\u001b[0;34m\u001b[0m\u001b[0m\n\u001b[1;32m    160\u001b[0m             )\n\u001b[0;32m--> 161\u001b[0;31m         \u001b[0;32mraise\u001b[0m \u001b[0mValueError\u001b[0m\u001b[0;34m(\u001b[0m\u001b[0mmsg_err\u001b[0m\u001b[0;34m)\u001b[0m\u001b[0;34m\u001b[0m\u001b[0;34m\u001b[0m\u001b[0m\n\u001b[0m\u001b[1;32m    162\u001b[0m \u001b[0;34m\u001b[0m\u001b[0m\n\u001b[1;32m    163\u001b[0m \u001b[0;34m\u001b[0m\u001b[0m\n",
            "\u001b[0;31mValueError\u001b[0m: Input contains NaN."
          ]
        }
      ]
    },
    {
      "cell_type": "code",
      "source": [
        "# Convert distances from kilometers to miles\n",
        "distances = distances.astype(float) * 0.621371"
      ],
      "metadata": {
        "id": "gHRZEXlVvGpy"
      },
      "id": "gHRZEXlVvGpy",
      "execution_count": null,
      "outputs": []
    },
    {
      "cell_type": "code",
      "source": [
        "# Identify neighbors within a certain distance (e.g., 50 miles)\n",
        "neighbors_within_50_miles = distances < 50"
      ],
      "metadata": {
        "id": "Hr_3B3qPvLI9"
      },
      "id": "Hr_3B3qPvLI9",
      "execution_count": null,
      "outputs": []
    },
    {
      "cell_type": "code",
      "source": [
        "print(\"Pairwise distances in miles:\")\n",
        "print(distances)"
      ],
      "metadata": {
        "colab": {
          "base_uri": "https://localhost:8080/"
        },
        "id": "PYFB_L1EvUAX",
        "outputId": "48e35ca6-87b3-4e0d-d806-9d3954a9074e"
      },
      "id": "PYFB_L1EvUAX",
      "execution_count": null,
      "outputs": [
        {
          "output_type": "stream",
          "name": "stdout",
          "text": [
            "Pairwise distances in miles:\n",
            "     0         1         2          3          4          5          6    \\\n",
            "0    0.0  2.264957  5.733298  27.130491  17.340165  19.251622  19.251622   \n",
            "1    NaN       NaN       NaN        NaN        NaN        NaN        NaN   \n",
            "2    NaN       NaN       NaN        NaN        NaN        NaN        NaN   \n",
            "3    NaN       NaN       NaN        NaN        NaN        NaN        NaN   \n",
            "4    NaN       NaN       NaN        NaN        NaN        NaN        NaN   \n",
            "..   ...       ...       ...        ...        ...        ...        ...   \n",
            "127  NaN       NaN       NaN        NaN        NaN        NaN        NaN   \n",
            "128  NaN       NaN       NaN        NaN        NaN        NaN        NaN   \n",
            "129  NaN       NaN       NaN        NaN        NaN        NaN        NaN   \n",
            "130  NaN       NaN       NaN        NaN        NaN        NaN        NaN   \n",
            "131  NaN       NaN       NaN        NaN        NaN        NaN        NaN   \n",
            "\n",
            "           7          8         9    ...  122  123  124  125  126  127  128  \\\n",
            "0    19.251622  31.341191  40.06027  ...  NaN  NaN  NaN  NaN  NaN  NaN  NaN   \n",
            "1          NaN        NaN       NaN  ...  NaN  NaN  NaN  NaN  NaN  NaN  NaN   \n",
            "2          NaN        NaN       NaN  ...  NaN  NaN  NaN  NaN  NaN  NaN  NaN   \n",
            "3          NaN        NaN       NaN  ...  NaN  NaN  NaN  NaN  NaN  NaN  NaN   \n",
            "4          NaN        NaN       NaN  ...  NaN  NaN  NaN  NaN  NaN  NaN  NaN   \n",
            "..         ...        ...       ...  ...  ...  ...  ...  ...  ...  ...  ...   \n",
            "127        NaN        NaN       NaN  ...  NaN  NaN  NaN  NaN  NaN  NaN  NaN   \n",
            "128        NaN        NaN       NaN  ...  NaN  NaN  NaN  NaN  NaN  NaN  NaN   \n",
            "129        NaN        NaN       NaN  ...  NaN  NaN  NaN  NaN  NaN  NaN  NaN   \n",
            "130        NaN        NaN       NaN  ...  NaN  NaN  NaN  NaN  NaN  NaN  NaN   \n",
            "131        NaN        NaN       NaN  ...  NaN  NaN  NaN  NaN  NaN  NaN  NaN   \n",
            "\n",
            "     129  130  131  \n",
            "0    NaN  NaN  NaN  \n",
            "1    NaN  NaN  NaN  \n",
            "2    NaN  NaN  NaN  \n",
            "3    NaN  NaN  NaN  \n",
            "4    NaN  NaN  NaN  \n",
            "..   ...  ...  ...  \n",
            "127  NaN  NaN  NaN  \n",
            "128  NaN  NaN  NaN  \n",
            "129  NaN  NaN  NaN  \n",
            "130  NaN  NaN  NaN  \n",
            "131  NaN  NaN  NaN  \n",
            "\n",
            "[132 rows x 132 columns]\n"
          ]
        }
      ]
    },
    {
      "cell_type": "code",
      "source": [
        "print(\"\\nNeighbors within 50 miles:\")\n",
        "print(neighbors_within_50_miles)"
      ],
      "metadata": {
        "colab": {
          "base_uri": "https://localhost:8080/"
        },
        "id": "pMad3Yqov1aa",
        "outputId": "d0181ea2-0239-408f-bf5a-01fc26566587"
      },
      "id": "pMad3Yqov1aa",
      "execution_count": null,
      "outputs": [
        {
          "output_type": "stream",
          "name": "stdout",
          "text": [
            "\n",
            "Neighbors within 50 miles:\n",
            "       0      1      2      3      4      5      6      7      8      9    \\\n",
            "0     True   True   True   True   True   True   True   True   True   True   \n",
            "1    False  False  False  False  False  False  False  False  False  False   \n",
            "2    False  False  False  False  False  False  False  False  False  False   \n",
            "3    False  False  False  False  False  False  False  False  False  False   \n",
            "4    False  False  False  False  False  False  False  False  False  False   \n",
            "..     ...    ...    ...    ...    ...    ...    ...    ...    ...    ...   \n",
            "127  False  False  False  False  False  False  False  False  False  False   \n",
            "128  False  False  False  False  False  False  False  False  False  False   \n",
            "129  False  False  False  False  False  False  False  False  False  False   \n",
            "130  False  False  False  False  False  False  False  False  False  False   \n",
            "131  False  False  False  False  False  False  False  False  False  False   \n",
            "\n",
            "     ...    122    123    124    125    126    127    128    129    130    131  \n",
            "0    ...  False  False  False  False  False  False  False  False  False  False  \n",
            "1    ...  False  False  False  False  False  False  False  False  False  False  \n",
            "2    ...  False  False  False  False  False  False  False  False  False  False  \n",
            "3    ...  False  False  False  False  False  False  False  False  False  False  \n",
            "4    ...  False  False  False  False  False  False  False  False  False  False  \n",
            "..   ...    ...    ...    ...    ...    ...    ...    ...    ...    ...    ...  \n",
            "127  ...  False  False  False  False  False  False  False  False  False  False  \n",
            "128  ...  False  False  False  False  False  False  False  False  False  False  \n",
            "129  ...  False  False  False  False  False  False  False  False  False  False  \n",
            "130  ...  False  False  False  False  False  False  False  False  False  False  \n",
            "131  ...  False  False  False  False  False  False  False  False  False  False  \n",
            "\n",
            "[132 rows x 132 columns]\n"
          ]
        }
      ]
    },
    {
      "cell_type": "markdown",
      "id": "c9307066",
      "metadata": {
        "id": "c9307066"
      },
      "source": [
        "### Calculate pairwise distances and identify neighbors"
      ]
    },
    {
      "cell_type": "code",
      "execution_count": null,
      "id": "fde8b353",
      "metadata": {
        "id": "fde8b353"
      },
      "outputs": [],
      "source": [
        "coords = df[['Latitude_radians', 'Longitude_radians']].values\n",
        "if coords.size == 0:\n",
        "    raise ValueError(\"Coordinates array is empty. Check your data and merging process.\")\n",
        "\n",
        "dist_matrix = haversine_distances(coords) * 6371  # Convert to kilometers\n",
        "\n",
        "# Define a radius (1 km)\n",
        "radius = 1\n",
        "\n",
        "# Identify neighbors within the radius\n",
        "neighbors = {i: np.where(dist_matrix[i] <= radius)[0] for i in range(len(df))}"
      ]
    },
    {
      "cell_type": "markdown",
      "id": "66336f2b",
      "metadata": {
        "id": "66336f2b"
      },
      "source": [
        "# Calculate outlier scores"
      ]
    },
    {
      "cell_type": "code",
      "execution_count": null,
      "id": "3f7b546b",
      "metadata": {
        "id": "3f7b546b",
        "outputId": "1332b4da-b7b4-4d88-c730-dcce648f4d60",
        "colab": {
          "base_uri": "https://localhost:8080/"
        }
      },
      "outputs": [
        {
          "output_type": "stream",
          "name": "stdout",
          "text": [
            "               Ward party  outlier_score\n",
            "0  TULLUWA/KULAFASA   APC      -0.844871\n",
            "1  TULLUWA/KULAFASA    LP            NaN\n",
            "2  TULLUWA/KULAFASA   PDP      -0.217217\n",
            "3  TULLUWA/KULAFASA  NNPP            NaN\n",
            "4  TULLUWA/KULAFASA   APC      -0.559727\n"
          ]
        }
      ],
      "source": [
        "def calculate_outlier_scores(neighbors, df, id_column):\n",
        "    outlier_scores = []\n",
        "    for i, neighbor_indices in neighbors.items():\n",
        "        if len(neighbor_indices) > 1:\n",
        "            for party in ['APC', 'LP', 'PDP', 'NNPP']:\n",
        "                votes = df.iloc[neighbor_indices][party].values\n",
        "                z_scores = zscore(votes)\n",
        "                outlier_scores.append({\n",
        "                    id_column: df.iloc[i][id_column],\n",
        "                    'party': party,\n",
        "                    'outlier_score': z_scores[np.where(neighbor_indices == i)[0][0]]\n",
        "                })\n",
        "    return pd.DataFrame(outlier_scores)\n",
        "\n",
        "# Determine the appropriate identifier column\n",
        "id_column = 'unit_id' if 'unit_id' in df.columns else df.columns[4]\n",
        "\n",
        "# Calculate outlier scores\n",
        "outlier_scores = calculate_outlier_scores(neighbors, df, id_column)\n",
        "print(outlier_scores.head())"
      ]
    },
    {
      "cell_type": "code",
      "execution_count": null,
      "id": "2851069b",
      "metadata": {
        "id": "2851069b",
        "outputId": "05f46bee-0409-4919-bb73-33d92405b59c",
        "colab": {
          "base_uri": "https://localhost:8080/"
        }
      },
      "outputs": [
        {
          "output_type": "stream",
          "name": "stdout",
          "text": [
            "  PU-Name  latitude  longitude  APC   LP  PDP  NNPP  APC_outlier_score  \\\n",
            "0     PU1    6.5244     3.3792  100  200  300    50          33.333333   \n",
            "1     PU2    6.5245     3.3793  150  180  280    60          33.333333   \n",
            "2     PU3    6.5246     3.3794  120  210  290    55           6.666667   \n",
            "3     PU4    6.5247     3.3795  130  220  310    65           6.666667   \n",
            "\n",
            "   LP_outlier_score  PDP_outlier_score  NNPP_outlier_score  \n",
            "0          3.333333           6.666667           10.000000  \n",
            "1         30.000000          20.000000            3.333333  \n",
            "2         10.000000           6.666667            3.333333  \n",
            "3         23.333333          20.000000           10.000000  \n"
          ]
        }
      ],
      "source": [
        "# Define a function to calculate the outlier score\n",
        "def calculate_outlier_score(votes, neighbor_votes):\n",
        "    return abs(votes - np.mean(neighbor_votes))\n",
        "\n",
        "# Sample DataFrame\n",
        "data = {\n",
        "    'PU-Name': ['PU1', 'PU2', 'PU3', 'PU4'],\n",
        "    'latitude': [6.5244, 6.5245, 6.5246, 6.5247],\n",
        "    'longitude': [3.3792, 3.3793, 3.3794, 3.3795],\n",
        "    'APC': [100, 150, 120, 130],\n",
        "    'LP': [200, 180, 210, 220],\n",
        "    'PDP': [300, 280, 290, 310],\n",
        "    'NNPP': [50, 60, 55, 65]\n",
        "}\n",
        "df = pd.DataFrame(data)\n",
        "\n",
        "# Define a radius (in km)\n",
        "radius = 1\n",
        "\n",
        "# Initialize outlier score columns\n",
        "df['APC_outlier_score'] = 0.0\n",
        "df['LP_outlier_score'] = 0.0\n",
        "df['PDP_outlier_score'] = 0.0\n",
        "df['NNPP_outlier_score'] = 0.0\n",
        "\n",
        "# Calculate outlier scores for each polling unit\n",
        "for i, row in df.iterrows():\n",
        "    # Get the coordinates of the current polling unit\n",
        "    current_coords = (row['latitude'], row['longitude'])\n",
        "\n",
        "    # Find neighboring polling units\n",
        "    neighbors = []\n",
        "    for j, neighbor_row in df.iterrows():\n",
        "        if i != j:\n",
        "            neighbor_coords = (neighbor_row['latitude'], neighbor_row['longitude'])\n",
        "            distance = geodesic(current_coords, neighbor_coords).kilometers\n",
        "            if distance <= radius:\n",
        "                neighbors.append(neighbor_row)\n",
        "\n",
        "    if neighbors:\n",
        "        # Calculate outlier scores for each party\n",
        "        neighbors_df = pd.DataFrame(neighbors)\n",
        "        df.at[i, 'APC_outlier_score'] = calculate_outlier_score(row['APC'], neighbors_df['APC'])\n",
        "        df.at[i, 'LP_outlier_score'] = calculate_outlier_score(row['LP'], neighbors_df['LP'])\n",
        "        df.at[i, 'PDP_outlier_score'] = calculate_outlier_score(row['PDP'], neighbors_df['PDP'])\n",
        "        df.at[i, 'NNPP_outlier_score'] = calculate_outlier_score(row['NNPP'], neighbors_df['NNPP'])\n",
        "\n",
        "print(df)"
      ]
    },
    {
      "cell_type": "markdown",
      "id": "4860fb85",
      "metadata": {
        "id": "4860fb85"
      },
      "source": [
        "### Save the cleaned dataset to a CSV file"
      ]
    },
    {
      "cell_type": "code",
      "execution_count": null,
      "id": "4c651ca6",
      "metadata": {
        "id": "4c651ca6",
        "outputId": "20dcf5e4-3dbd-49fa-dc01-8a87232fc8e0",
        "colab": {
          "base_uri": "https://localhost:8080/"
        }
      },
      "outputs": [
        {
          "output_type": "stream",
          "name": "stdout",
          "text": [
            "Cleaned dataset saved to maryam_sokoto_outlier_scores.csv\n"
          ]
        }
      ],
      "source": [
        "cleaned_dataset_filename = 'maryam_sokoto_outlier_scores.csv'\n",
        "df.to_csv(cleaned_dataset_filename, index=False)\n",
        "\n",
        "print(f\"Cleaned dataset saved to {cleaned_dataset_filename}\")"
      ]
    },
    {
      "cell_type": "markdown",
      "id": "c8bdbc4f",
      "metadata": {
        "id": "c8bdbc4f"
      },
      "source": [
        "## Visualization"
      ]
    },
    {
      "cell_type": "code",
      "execution_count": null,
      "id": "bbd74d31",
      "metadata": {
        "id": "bbd74d31",
        "outputId": "be938579-264e-45c0-ebdd-7fad6706d4d4",
        "colab": {
          "base_uri": "https://localhost:8080/",
          "height": 607
        }
      },
      "outputs": [
        {
          "output_type": "display_data",
          "data": {
            "text/plain": [
              "<Figure size 600x600 with 1 Axes>"
            ],
            "image/png": "[encoded data removed]"
          },
          "metadata": {}
        }
      ],
      "source": [
        "# Plotting the histogram for PDP outlier scores\n",
        "plt.figure(figsize=(6, 6))\n",
        "plt.hist(df['PDP_outlier_score'], bins=10, edgecolor='black')\n",
        "plt.xlabel('Outlier Score')\n",
        "plt.ylabel('Frequency')\n",
        "plt.title('PDP Outlier Scores')\n",
        "plt.tight_layout()\n",
        "plt.show()\n"
      ]
    },
    {
      "cell_type": "code",
      "source": [
        "# Plotting the histogram for PDP outlier scores\n",
        "plt.figure(figsize=(6, 6))\n",
        "plt.hist(df['APC_outlier_score'], bins=10, edgecolor='black')\n",
        "plt.xlabel('Outlier Score')\n",
        "plt.ylabel('Frequency')\n",
        "plt.title('APC Outlier Scores')\n",
        "plt.tight_layout()\n",
        "plt.show()"
      ],
      "metadata": {
        "colab": {
          "base_uri": "https://localhost:8080/",
          "height": 607
        },
        "id": "FkgkrV0v7H5t",
        "outputId": "1bd7fece-ee73-40ee-bb37-1d9f308bdbd3"
      },
      "id": "FkgkrV0v7H5t",
      "execution_count": null,
      "outputs": [
        {
          "output_type": "display_data",
          "data": {
            "text/plain": [
              "<Figure size 600x600 with 1 Axes>"
            ],
            "image/png": "[encoded data removed]"
          },
          "metadata": {}
        }
      ]
    },
    {
      "cell_type": "code",
      "source": [
        "# Plotting the histogram for PDP outlier scores\n",
        "plt.figure(figsize=(6, 6))\n",
        "plt.hist(df['LP_outlier_score'], bins=10, edgecolor='black')\n",
        "plt.xlabel('Outlier Score')\n",
        "plt.ylabel('Frequency')\n",
        "plt.title('LP Outlier Scores')\n",
        "plt.tight_layout()\n",
        "plt.show()"
      ],
      "metadata": {
        "colab": {
          "base_uri": "https://localhost:8080/",
          "height": 607
        },
        "id": "CpF3C9kz7Hs3",
        "outputId": "28ef85c1-c092-48fc-ffb7-7b17496a54b5"
      },
      "id": "CpF3C9kz7Hs3",
      "execution_count": null,
      "outputs": [
        {
          "output_type": "display_data",
          "data": {
            "text/plain": [
              "<Figure size 600x600 with 1 Axes>"
            ],
            "image/png": "[encoded data removed]"
          },
          "metadata": {}
        }
      ]
    },
    {
      "cell_type": "code",
      "source": [
        "# Plotting the histogram for PDP outlier scores\n",
        "plt.figure(figsize=(6, 6))\n",
        "plt.hist(df['NNPP_outlier_score'], bins=10, edgecolor='black')\n",
        "plt.xlabel('Outlier Score')\n",
        "plt.ylabel('Frequency')\n",
        "plt.title('NNPP Outlier Scores')\n",
        "plt.tight_layout()\n",
        "plt.show()"
      ],
      "metadata": {
        "colab": {
          "base_uri": "https://localhost:8080/",
          "height": 607
        },
        "id": "pyP9fzMP7aWv",
        "outputId": "a07f7f1d-a3aa-4914-ae19-60999238d192"
      },
      "id": "pyP9fzMP7aWv",
      "execution_count": null,
      "outputs": [
        {
          "output_type": "display_data",
          "data": {
            "text/plain": [
              "<Figure size 600x600 with 1 Axes>"
            ],
            "image/png": "[encoded data removed]"
          },
          "metadata": {}
        }
      ]
    },
    {
      "cell_type": "code",
      "execution_count": null,
      "id": "6ef39eb6",
      "metadata": {
        "id": "6ef39eb6",
        "outputId": "31163ef3-32f5-4b2d-8bb2-d35027d3043c",
        "colab": {
          "base_uri": "https://localhost:8080/",
          "height": 1000
        }
      },
      "outputs": [
        {
          "output_type": "execute_result",
          "data": {
            "text/plain": [
              "<folium.folium.Map at 0x7fc36cff4cd0>"
            ],
            "text/html": [
              "<div style=\"width:100%;\"><div style=\"position:relative;width:100%;height:0;padding-bottom:60%;\"><span style=\"color:#565656\">Make this Notebook Trusted to load map: File -> Trust Notebook</span><iframe srcdoc=\"&lt;!DOCTYPE html&gt;\n",
              "&lt;html&gt;\n",
              "&lt;head&gt;\n",
              "    \n",
              "    &lt;meta http-equiv=&quot;content-type&quot; content=&quot;text/html; charset=UTF-8&quot; /&gt;\n",
              "    \n",
              "        &lt;script&gt;\n",
              "            L_NO_TOUCH = false;\n",
              "            L_DISABLE_3D = false;\n",
              "        &lt;/script&gt;\n",
              "    \n",
              "    &lt;style&gt;html, body {width: 100%;height: 100%;margin: 0;padding: 0;}&lt;/style&gt;\n",
              "    &lt;style&gt;#map {position:absolute;top:0;bottom:0;right:0;left:0;}&lt;/style&gt;\n",
              "    &lt;script src=&quot;https://cdn.jsdelivr.net/npm/leaflet@1.9.3/dist/leaflet.js&quot;&gt;&lt;/script&gt;\n",
              "    &lt;script src=&quot;https://code.jquery.com/jquery-1.12.4.min.js&quot;&gt;&lt;/script&gt;\n",
              "    &lt;script src=&quot;https://cdn.jsdelivr.net/npm/bootstrap@5.2.2/dist/js/bootstrap.bundle.min.js&quot;&gt;&lt;/script&gt;\n",
              "    &lt;script src=&quot;https://cdnjs.cloudflare.com/ajax/libs/Leaflet.awesome-markers/2.0.2/leaflet.awesome-markers.js&quot;&gt;&lt;/script&gt;\n",
              "    &lt;link rel=&quot;stylesheet&quot; href=&quot;https://cdn.jsdelivr.net/npm/leaflet@1.9.3/dist/leaflet.css&quot;/&gt;\n",
              "    &lt;link rel=&quot;stylesheet&quot; href=&quot;https://cdn.jsdelivr.net/npm/bootstrap@5.2.2/dist/css/bootstrap.min.css&quot;/&gt;\n",
              "    &lt;link rel=&quot;stylesheet&quot; href=&quot;https://netdna.bootstrapcdn.com/bootstrap/3.0.0/css/bootstrap.min.css&quot;/&gt;\n",
              "    &lt;link rel=&quot;stylesheet&quot; href=&quot;https://cdn.jsdelivr.net/npm/@fortawesome/fontawesome-free@6.2.0/css/all.min.css&quot;/&gt;\n",
              "    &lt;link rel=&quot;stylesheet&quot; href=&quot;https://cdnjs.cloudflare.com/ajax/libs/Leaflet.awesome-markers/2.0.2/leaflet.awesome-markers.css&quot;/&gt;\n",
              "    &lt;link rel=&quot;stylesheet&quot; href=&quot;https://cdn.jsdelivr.net/gh/python-visualization/folium/folium/templates/leaflet.awesome.rotate.min.css&quot;/&gt;\n",
              "    \n",
              "            &lt;meta name=&quot;viewport&quot; content=&quot;width=device-width,\n",
              "                initial-scale=1.0, maximum-scale=1.0, user-scalable=no&quot; /&gt;\n",
              "            &lt;style&gt;\n",
              "                #map_8d978696a0505fbfb5d219a3f792550b {\n",
              "                    position: relative;\n",
              "                    width: 100.0%;\n",
              "                    height: 100.0%;\n",
              "                    left: 0.0%;\n",
              "                    top: 0.0%;\n",
              "                }\n",
              "                .leaflet-container { font-size: 1rem; }\n",
              "            &lt;/style&gt;\n",
              "        \n",
              "&lt;/head&gt;\n",
              "&lt;body&gt;\n",
              "    \n",
              "    \n",
              "            &lt;div class=&quot;folium-map&quot; id=&quot;map_8d978696a0505fbfb5d219a3f792550b&quot; &gt;&lt;/div&gt;\n",
              "        \n",
              "&lt;/body&gt;\n",
              "&lt;script&gt;\n",
              "    \n",
              "    \n",
              "            var map_8d978696a0505fbfb5d219a3f792550b = L.map(\n",
              "                &quot;map_8d978696a0505fbfb5d219a3f792550b&quot;,\n",
              "                {\n",
              "                    center: [6.52455, 3.37935],\n",
              "                    crs: L.CRS.EPSG3857,\n",
              "                    zoom: 12,\n",
              "                    zoomControl: true,\n",
              "                    preferCanvas: false,\n",
              "                }\n",
              "            );\n",
              "\n",
              "            \n",
              "\n",
              "        \n",
              "    \n",
              "            var tile_layer_655052a3354fd957f8509bbf150fe841 = L.tileLayer(\n",
              "                &quot;https://{s}.tile.openstreetmap.org/{z}/{x}/{y}.png&quot;,\n",
              "                {&quot;attribution&quot;: &quot;Data by \\u0026copy; \\u003ca target=\\&quot;_blank\\&quot; href=\\&quot;http://openstreetmap.org\\&quot;\\u003eOpenStreetMap\\u003c/a\\u003e, under \\u003ca target=\\&quot;_blank\\&quot; href=\\&quot;http://www.openstreetmap.org/copyright\\&quot;\\u003eODbL\\u003c/a\\u003e.&quot;, &quot;detectRetina&quot;: false, &quot;maxNativeZoom&quot;: 18, &quot;maxZoom&quot;: 18, &quot;minZoom&quot;: 0, &quot;noWrap&quot;: false, &quot;opacity&quot;: 1, &quot;subdomains&quot;: &quot;abc&quot;, &quot;tms&quot;: false}\n",
              "            ).addTo(map_8d978696a0505fbfb5d219a3f792550b);\n",
              "        \n",
              "    \n",
              "            var marker_ab104ac43ae8c60c09a41413bb0fe0f2 = L.marker(\n",
              "                [6.5244, 3.3792],\n",
              "                {}\n",
              "            ).addTo(map_8d978696a0505fbfb5d219a3f792550b);\n",
              "        \n",
              "    \n",
              "        var popup_bfe49145f2ffbebc26a3c9d0c8c1177e = L.popup({&quot;maxWidth&quot;: &quot;100%&quot;});\n",
              "\n",
              "        \n",
              "            \n",
              "                var html_afa7a3f2970d08f2eb13e1789022dd47 = $(`&lt;div id=&quot;html_afa7a3f2970d08f2eb13e1789022dd47&quot; style=&quot;width: 100.0%; height: 100.0%;&quot;&gt;Polling Unit: PU1 APC Outlier Score: 33.33333333333334 LP Outlier Score: 3.333333333333343 PDP Outlier Score: 6.666666666666686 NNPP Outlier Score: 10.0&lt;/div&gt;`)[0];\n",
              "                popup_bfe49145f2ffbebc26a3c9d0c8c1177e.setContent(html_afa7a3f2970d08f2eb13e1789022dd47);\n",
              "            \n",
              "        \n",
              "\n",
              "        marker_ab104ac43ae8c60c09a41413bb0fe0f2.bindPopup(popup_bfe49145f2ffbebc26a3c9d0c8c1177e)\n",
              "        ;\n",
              "\n",
              "        \n",
              "    \n",
              "    \n",
              "            var marker_89078e22e2f042fdfacbc8353b2c83c6 = L.marker(\n",
              "                [6.5245, 3.3793],\n",
              "                {}\n",
              "            ).addTo(map_8d978696a0505fbfb5d219a3f792550b);\n",
              "        \n",
              "    \n",
              "        var popup_9412a5b3c09b3dd0e128b83fe5adcb1e = L.popup({&quot;maxWidth&quot;: &quot;100%&quot;});\n",
              "\n",
              "        \n",
              "            \n",
              "                var html_b535cd64703d426d9a6268cfd5b2a3e0 = $(`&lt;div id=&quot;html_b535cd64703d426d9a6268cfd5b2a3e0&quot; style=&quot;width: 100.0%; height: 100.0%;&quot;&gt;Polling Unit: PU2 APC Outlier Score: 33.33333333333333 LP Outlier Score: 30.0 PDP Outlier Score: 20.0 NNPP Outlier Score: 3.3333333333333357&lt;/div&gt;`)[0];\n",
              "                popup_9412a5b3c09b3dd0e128b83fe5adcb1e.setContent(html_b535cd64703d426d9a6268cfd5b2a3e0);\n",
              "            \n",
              "        \n",
              "\n",
              "        marker_89078e22e2f042fdfacbc8353b2c83c6.bindPopup(popup_9412a5b3c09b3dd0e128b83fe5adcb1e)\n",
              "        ;\n",
              "\n",
              "        \n",
              "    \n",
              "    \n",
              "            var marker_911ab9b3ee937a12e9ba8fe4497b1863 = L.marker(\n",
              "                [6.5246, 3.3794],\n",
              "                {}\n",
              "            ).addTo(map_8d978696a0505fbfb5d219a3f792550b);\n",
              "        \n",
              "    \n",
              "        var popup_4bcfbe8006eebd7d2f00655d5cf7d5b4 = L.popup({&quot;maxWidth&quot;: &quot;100%&quot;});\n",
              "\n",
              "        \n",
              "            \n",
              "                var html_a12c1c187009676be73f02070da6a1ef = $(`&lt;div id=&quot;html_a12c1c187009676be73f02070da6a1ef&quot; style=&quot;width: 100.0%; height: 100.0%;&quot;&gt;Polling Unit: PU3 APC Outlier Score: 6.666666666666671 LP Outlier Score: 10.0 PDP Outlier Score: 6.666666666666686 NNPP Outlier Score: 3.3333333333333357&lt;/div&gt;`)[0];\n",
              "                popup_4bcfbe8006eebd7d2f00655d5cf7d5b4.setContent(html_a12c1c187009676be73f02070da6a1ef);\n",
              "            \n",
              "        \n",
              "\n",
              "        marker_911ab9b3ee937a12e9ba8fe4497b1863.bindPopup(popup_4bcfbe8006eebd7d2f00655d5cf7d5b4)\n",
              "        ;\n",
              "\n",
              "        \n",
              "    \n",
              "    \n",
              "            var marker_a5baa1d558401a2340121f3c15e1ad09 = L.marker(\n",
              "                [6.5247, 3.3795],\n",
              "                {}\n",
              "            ).addTo(map_8d978696a0505fbfb5d219a3f792550b);\n",
              "        \n",
              "    \n",
              "        var popup_5ec514013b00207fdcd1644152f6b0d1 = L.popup({&quot;maxWidth&quot;: &quot;100%&quot;});\n",
              "\n",
              "        \n",
              "            \n",
              "                var html_b738a9602db7699d4e99bf6691d60d76 = $(`&lt;div id=&quot;html_b738a9602db7699d4e99bf6691d60d76&quot; style=&quot;width: 100.0%; height: 100.0%;&quot;&gt;Polling Unit: PU4 APC Outlier Score: 6.666666666666671 LP Outlier Score: 23.333333333333343 PDP Outlier Score: 20.0 NNPP Outlier Score: 10.0&lt;/div&gt;`)[0];\n",
              "                popup_5ec514013b00207fdcd1644152f6b0d1.setContent(html_b738a9602db7699d4e99bf6691d60d76);\n",
              "            \n",
              "        \n",
              "\n",
              "        marker_a5baa1d558401a2340121f3c15e1ad09.bindPopup(popup_5ec514013b00207fdcd1644152f6b0d1)\n",
              "        ;\n",
              "\n",
              "        \n",
              "    \n",
              "&lt;/script&gt;\n",
              "&lt;/html&gt;\" style=\"position:absolute;width:100%;height:100%;left:0;top:0;border:none !important;\" allowfullscreen webkitallowfullscreen mozallowfullscreen></iframe></div></div>"
            ]
          },
          "metadata": {},
          "execution_count": 66
        },
        {
          "output_type": "display_data",
          "data": {
            "text/plain": [
              "<Figure size 640x480 with 1 Axes>"
            ],
            "image/png": "[encoded data removed]"
          },
          "metadata": {}
        }
      ],
      "source": [
        "import folium\n",
        "\n",
        "# Create a folium map to visualize polling units\n",
        "m = folium.Map(location=[df['latitude'].mean(), df['longitude'].mean()], zoom_start=12)\n",
        "\n",
        "\n",
        "# Add markers for each polling unit\n",
        "for index, row in df.iterrows():\n",
        "    folium.Marker(\n",
        "        location=[row['latitude'], row['longitude']],\n",
        "        popup=f\"Polling Unit: {row['PU-Name']}\\nAPC Outlier Score: {row['APC_outlier_score']}\\nLP Outlier Score: {row['LP_outlier_score']}\\nPDP Outlier Score: {row['PDP_outlier_score']}\\nNNPP Outlier Score: {row['NNPP_outlier_score']}\"\n",
        "    ).add_to(m)\n",
        "plt.title('Folium map visualizing polling units in Delta State')\n",
        "# Save the map as an HTML file\n",
        "m.save('polling_units_map.html')\n",
        "\n",
        "# Display the map (this will work in Jupyter notebooks)\n",
        "m"
      ]
    },
    {
      "cell_type": "code",
      "execution_count": null,
      "id": "db11b5a5",
      "metadata": {
        "id": "db11b5a5"
      },
      "outputs": [],
      "source": [
        "# Save the map as an HTML file\n",
        "m.save('polling_units_map.html')"
      ]
    },
    {
      "cell_type": "markdown",
      "id": "caccc1f2",
      "metadata": {
        "id": "caccc1f2"
      },
      "source": [
        "# Sort the dataset by outlier scores"
      ]
    },
    {
      "cell_type": "code",
      "execution_count": null,
      "id": "0d638e90",
      "metadata": {
        "id": "0d638e90",
        "outputId": "f3ca61be-67b9-4b3a-98c7-228ca824bf3b",
        "colab": {
          "base_uri": "https://localhost:8080/"
        }
      },
      "outputs": [
        {
          "output_type": "stream",
          "name": "stdout",
          "text": [
            "               Ward party  outlier_score\n",
            "197        GAGI 'B'    LP       3.781057\n",
            "116      T/WADA 'A'   APC       2.190209\n",
            "74     S/BIRNI WEST   PDP       2.159632\n",
            "214  DOGONDAJI/SALA   PDP       1.951496\n",
            "179            TARA  NNPP       1.732051\n"
          ]
        }
      ],
      "source": [
        "sorted_outliers = outlier_scores.sort_values(by='outlier_score', ascending=False)\n",
        "sorted_outliers.to_csv('sorted_outlier_scores.csv', index=False)\n",
        "print(sorted_outliers.head())"
      ]
    },
    {
      "cell_type": "markdown",
      "id": "34a5f1e0",
      "metadata": {
        "id": "34a5f1e0"
      },
      "source": [
        "# Identify top 3 outliers for each party"
      ]
    },
    {
      "cell_type": "code",
      "execution_count": null,
      "id": "5905c596",
      "metadata": {
        "id": "5905c596",
        "outputId": "120d78da-db5c-4f7f-8048-961076b34c15",
        "colab": {
          "base_uri": "https://localhost:8080/"
        }
      },
      "outputs": [
        {
          "output_type": "stream",
          "name": "stdout",
          "text": [
            "                 Ward party  outlier_score\n",
            "197          GAGI 'B'    LP       3.781057\n",
            "116        T/WADA 'A'   APC       2.190209\n",
            "74       S/BIRNI WEST   PDP       2.159632\n",
            "214    DOGONDAJI/SALA   PDP       1.951496\n",
            "179              TARA  NNPP       1.732051\n",
            "123        T/WADA 'B'  NNPP       1.732051\n",
            "71       S/BIRNI EAST  NNPP       1.732051\n",
            "216    DOGONDAJI/SALA   APC       1.544908\n",
            "21               GADA    LP       1.414214\n",
            "8    TULLUWA/KULAFASA   APC       1.404599\n",
            "10   TULLUWA/KULAFASA   PDP       1.318820\n",
            "109      S/ADAR GANDU    LP       1.000000\n"
          ]
        }
      ],
      "source": [
        "top_outliers = sorted_outliers.groupby('party').head(3)\n",
        "print(top_outliers)"
      ]
    },
    {
      "cell_type": "code",
      "execution_count": null,
      "id": "5e337b70",
      "metadata": {
        "id": "5e337b70",
        "outputId": "ecdab597-9ef4-4ec1-9ef5-5122542e289b",
        "colab": {
          "base_uri": "https://localhost:8080/"
        }
      },
      "outputs": [
        {
          "output_type": "stream",
          "name": "stdout",
          "text": [
            "Unit GAGI 'B' is an outlier for LP with an outlier score of 3.7810567581342225.\n",
            "Unit T/WADA 'A' is an outlier for APC with an outlier score of 2.1902086607507565.\n",
            "Unit S/BIRNI WEST is an outlier for PDP with an outlier score of 2.1596316322278124.\n",
            "Unit DOGONDAJI/SALA is an outlier for PDP with an outlier score of 1.9514956893517916.\n",
            "Unit TARA is an outlier for NNPP with an outlier score of 1.7320508075688774.\n",
            "Unit T/WADA 'B' is an outlier for NNPP with an outlier score of 1.7320508075688774.\n",
            "Unit S/BIRNI EAST is an outlier for NNPP with an outlier score of 1.7320508075688774.\n",
            "Unit DOGONDAJI/SALA is an outlier for APC with an outlier score of 1.5449078715223483.\n",
            "Unit GADA is an outlier for LP with an outlier score of 1.414213562373095.\n",
            "Unit TULLUWA/KULAFASA is an outlier for APC with an outlier score of 1.4045987374355149.\n",
            "Unit TULLUWA/KULAFASA is an outlier for PDP with an outlier score of 1.318820470647445.\n",
            "Unit S/ADAR GANDU is an outlier for LP with an outlier score of 1.0.\n"
          ]
        }
      ],
      "source": [
        "# Explain why they are outliers\n",
        "for index, row in top_outliers.iterrows():\n",
        "    identifier = row[id_column]\n",
        "    party = row['party']\n",
        "    score = row['outlier_score']\n",
        "    print(f\"Unit {identifier} is an outlier for {party} with an outlier score of {score}.\")"
      ]
    },
    {
      "cell_type": "code",
      "execution_count": null,
      "id": "4210ca9b",
      "metadata": {
        "id": "4210ca9b"
      },
      "outputs": [],
      "source": [
        "# Save sorted outlier scores to a CSV file\n",
        "sorted_outliers.to_csv('sorted_outlier_scores.csv', index=False)"
      ]
    },
    {
      "cell_type": "code",
      "execution_count": null,
      "id": "11aea7d3",
      "metadata": {
        "id": "11aea7d3"
      },
      "outputs": [],
      "source": [
        "# Identify top 3 outliers for each party\n",
        "top_outliers = sorted_outliers.groupby('party').head(3)\n",
        "\n",
        "# Save top outliers to a CSV file\n",
        "top_outliers.to_csv('top_outliers.csv', index=False)"
      ]
    },
    {
      "cell_type": "code",
      "execution_count": null,
      "id": "303306fe",
      "metadata": {
        "id": "303306fe"
      },
      "outputs": [],
      "source": [
        "# Save the full dataset with calculated columns\n",
        "df.to_csv('full_dataset_with_calculations.csv', index=False)"
      ]
    },
    {
      "cell_type": "code",
      "execution_count": null,
      "id": "5ca45caa",
      "metadata": {
        "id": "5ca45caa",
        "outputId": "934bddde-bd54-486a-a60d-54bd23145463",
        "colab": {
          "base_uri": "https://localhost:8080/"
        }
      },
      "outputs": [
        {
          "output_type": "stream",
          "name": "stdout",
          "text": [
            "Sorted outlier scores saved to 'sorted_outlier_scores.csv'\n",
            "Top 3 outliers for each party saved to 'top_outliers.csv'\n",
            "Full dataset with calculations saved to 'full_dataset_with_calculations.csv'\n"
          ]
        }
      ],
      "source": [
        "# Print statements to confirm saving\n",
        "print(\"Sorted outlier scores saved to 'sorted_outlier_scores.csv'\")\n",
        "print(\"Top 3 outliers for each party saved to 'top_outliers.csv'\")\n",
        "print(\"Full dataset with calculations saved to 'full_dataset_with_calculations.csv'\")"
      ]
    },
    {
      "cell_type": "code",
      "execution_count": null,
      "id": "fb7fb73a",
      "metadata": {
        "id": "fb7fb73a"
      },
      "outputs": [],
      "source": []
    }
  ],
  "metadata": {
    "kernelspec": {
      "display_name": "Python 3 (ipykernel)",
      "language": "python",
      "name": "python3"
    },
    "language_info": {
      "codemirror_mode": {
        "name": "ipython",
        "version": 3
      },
      "file_extension": ".py",
      "mimetype": "text/x-python",
      "name": "python",
      "nbconvert_exporter": "python",
      "pygments_lexer": "ipython3",
      "version": "3.11.3"
    },
    "colab": {
      "provenance": [],
      "include_colab_link": true
    }
  },
  "nbformat": 4,
  "nbformat_minor": 5
}